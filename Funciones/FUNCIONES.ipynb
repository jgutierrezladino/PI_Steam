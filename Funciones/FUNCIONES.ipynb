{
 "cells": [
  {
   "cell_type": "markdown",
   "metadata": {},
   "source": [
    "Importamos las librerias necesarias para operar."
   ]
  },
  {
   "cell_type": "code",
   "execution_count": 1,
   "metadata": {},
   "outputs": [],
   "source": [
    "import pandas as pd\n",
    "import gzip\n",
    "import zipfile"
   ]
  },
  {
   "cell_type": "code",
   "execution_count": 3,
   "metadata": {},
   "outputs": [],
   "source": [
    "# Leer el DataFrame df_games desde un archivo CSV\n",
    "df_games = pd.read_csv('/DataSets/df_games_id.csv')\n",
    "\n",
    "# Leer el DataFrame df_user desde un archivo CSV dentro de un archivo ZIP\n",
    "with zipfile.ZipFile('/DataSets/df_user_id.zip', 'r') as zipf:\n",
    "    with zipf.open('df_user_id.csv') as csv_file:\n",
    "        df_user = pd.read_csv(csv_file)\n",
    "\n",
    "# Leer el DataFrame df_reviews desde un archivo CSV\n",
    "df_reviews = pd.read_csv('/DataSets/df_user_reviews.csv')"
   ]
  },
  {
   "cell_type": "code",
   "execution_count": 4,
   "metadata": {},
   "outputs": [
    {
     "data": {
      "text/html": [
       "<div>\n",
       "<style scoped>\n",
       "    .dataframe tbody tr th:only-of-type {\n",
       "        vertical-align: middle;\n",
       "    }\n",
       "\n",
       "    .dataframe tbody tr th {\n",
       "        vertical-align: top;\n",
       "    }\n",
       "\n",
       "    .dataframe thead th {\n",
       "        text-align: right;\n",
       "    }\n",
       "</style>\n",
       "<table border=\"1\" class=\"dataframe\">\n",
       "  <thead>\n",
       "    <tr style=\"text-align: right;\">\n",
       "      <th></th>\n",
       "      <th>user_id</th>\n",
       "      <th>item_id</th>\n",
       "      <th>item_name</th>\n",
       "      <th>playtime_forever</th>\n",
       "    </tr>\n",
       "  </thead>\n",
       "  <tbody>\n",
       "    <tr>\n",
       "      <th>0</th>\n",
       "      <td>76561197970982479</td>\n",
       "      <td>10</td>\n",
       "      <td>Counter-Strike</td>\n",
       "      <td>6</td>\n",
       "    </tr>\n",
       "    <tr>\n",
       "      <th>1</th>\n",
       "      <td>76561197970982479</td>\n",
       "      <td>30</td>\n",
       "      <td>Day of Defeat</td>\n",
       "      <td>7</td>\n",
       "    </tr>\n",
       "    <tr>\n",
       "      <th>2</th>\n",
       "      <td>76561197970982479</td>\n",
       "      <td>300</td>\n",
       "      <td>Day of Defeat: Source</td>\n",
       "      <td>4733</td>\n",
       "    </tr>\n",
       "    <tr>\n",
       "      <th>3</th>\n",
       "      <td>76561197970982479</td>\n",
       "      <td>240</td>\n",
       "      <td>Counter-Strike: Source</td>\n",
       "      <td>1853</td>\n",
       "    </tr>\n",
       "    <tr>\n",
       "      <th>4</th>\n",
       "      <td>76561197970982479</td>\n",
       "      <td>3830</td>\n",
       "      <td>Psychonauts</td>\n",
       "      <td>333</td>\n",
       "    </tr>\n",
       "    <tr>\n",
       "      <th>...</th>\n",
       "      <td>...</td>\n",
       "      <td>...</td>\n",
       "      <td>...</td>\n",
       "      <td>...</td>\n",
       "    </tr>\n",
       "    <tr>\n",
       "      <th>3285244</th>\n",
       "      <td>76561198329548331</td>\n",
       "      <td>304930</td>\n",
       "      <td>Unturned</td>\n",
       "      <td>677</td>\n",
       "    </tr>\n",
       "    <tr>\n",
       "      <th>3285245</th>\n",
       "      <td>76561198329548331</td>\n",
       "      <td>227940</td>\n",
       "      <td>Heroes &amp; Generals</td>\n",
       "      <td>43</td>\n",
       "    </tr>\n",
       "    <tr>\n",
       "      <th>3285246</th>\n",
       "      <td>76561198329548331</td>\n",
       "      <td>388490</td>\n",
       "      <td>One Way To Die: Steam Edition</td>\n",
       "      <td>3</td>\n",
       "    </tr>\n",
       "    <tr>\n",
       "      <th>3285247</th>\n",
       "      <td>76561198329548331</td>\n",
       "      <td>521570</td>\n",
       "      <td>You Have 10 Seconds 2</td>\n",
       "      <td>4</td>\n",
       "    </tr>\n",
       "    <tr>\n",
       "      <th>3285248</th>\n",
       "      <td>76561198329548331</td>\n",
       "      <td>519140</td>\n",
       "      <td>Minds Eyes</td>\n",
       "      <td>3</td>\n",
       "    </tr>\n",
       "  </tbody>\n",
       "</table>\n",
       "<p>3285249 rows × 4 columns</p>\n",
       "</div>"
      ],
      "text/plain": [
       "                   user_id  item_id                      item_name  \\\n",
       "0        76561197970982479       10                 Counter-Strike   \n",
       "1        76561197970982479       30                  Day of Defeat   \n",
       "2        76561197970982479      300          Day of Defeat: Source   \n",
       "3        76561197970982479      240         Counter-Strike: Source   \n",
       "4        76561197970982479     3830                    Psychonauts   \n",
       "...                    ...      ...                            ...   \n",
       "3285244  76561198329548331   304930                       Unturned   \n",
       "3285245  76561198329548331   227940              Heroes & Generals   \n",
       "3285246  76561198329548331   388490  One Way To Die: Steam Edition   \n",
       "3285247  76561198329548331   521570          You Have 10 Seconds 2   \n",
       "3285248  76561198329548331   519140                     Minds Eyes   \n",
       "\n",
       "         playtime_forever  \n",
       "0                       6  \n",
       "1                       7  \n",
       "2                    4733  \n",
       "3                    1853  \n",
       "4                     333  \n",
       "...                   ...  \n",
       "3285244               677  \n",
       "3285245                43  \n",
       "3285246                 3  \n",
       "3285247                 4  \n",
       "3285248                 3  \n",
       "\n",
       "[3285249 rows x 4 columns]"
      ]
     },
     "execution_count": 4,
     "metadata": {},
     "output_type": "execute_result"
    }
   ],
   "source": [
    "df_user"
   ]
  },
  {
   "cell_type": "markdown",
   "metadata": {},
   "source": [
    "## Año con más horas jugadas por genero"
   ]
  },
  {
   "cell_type": "code",
   "execution_count": 8,
   "metadata": {},
   "outputs": [
    {
     "name": "stdout",
     "output_type": "stream",
     "text": [
      "El año con más horas jugadas para el género Action es: 2012\n"
     ]
    }
   ],
   "source": [
    "def PlayTimeGenre(genre):\n",
    "    # Paso 1: Filtrar juegos por género\n",
    "    filtered_games = df_games[df_games['genres'].str.contains(genre, case=False, na=False)]\n",
    "\n",
    "    # Paso 2: Unir DataFrames\n",
    "    merged_df = pd.merge(df_user, filtered_games, left_on='item_id', right_on='id')\n",
    "\n",
    "    # Paso 3: Agregar horas de juego por año\n",
    "    grouped_df = merged_df.groupby('release_date')['playtime_forever'].sum().reset_index()\n",
    "\n",
    "    # Paso 4: Identificar el año con más horas jugadas\n",
    "    max_year = grouped_df.loc[grouped_df['playtime_forever'].idxmax()]['release_date']\n",
    "    \n",
    "    # Extraer solo el año\n",
    "    year_only = max_year.split('-')[0]\n",
    "\n",
    "    result_string = 'El año con más horas jugadas para el género ' + genre + ' es: ' + str(year_only)\n",
    "    return result_string\n",
    "\n",
    "# Ejemplo de uso\n",
    "result = PlayTimeGenre('Action')\n",
    "print(result)"
   ]
  },
  {
   "cell_type": "markdown",
   "metadata": {},
   "source": [
    "## Usuario con mas horas jugadas por genero."
   ]
  },
  {
   "cell_type": "code",
   "execution_count": 9,
   "metadata": {},
   "outputs": [
    {
     "name": "stdout",
     "output_type": "stream",
     "text": [
      "{'Usuario con más horas jugadas para Género Action': 'Evilutional', 'Horas jugadas': [{'Año': 2009, 'Horas': 2037}, {'Año': 2010, 'Horas': 4102}, {'Año': 2011, 'Horas': 1968}, {'Año': 2012, 'Horas': 680991}, {'Año': 2013, 'Horas': 69726}, {'Año': 2014, 'Horas': 24226}, {'Año': 2015, 'Horas': 112}, {'Año': 2016, 'Horas': 1291}, {'Año': 2017, 'Horas': 10894}]}\n"
     ]
    }
   ],
   "source": [
    "def UserForGenre(genre):\n",
    "    # Paso 1: Filtrar juegos por género\n",
    "    filtered_games = df_games[df_games['genres'].str.contains(genre, case=False, na=False)]\n",
    "\n",
    "    # Paso 2: Unir DataFrames\n",
    "    merged_df = pd.merge(df_user, filtered_games, left_on='item_id', right_on='id')\n",
    "\n",
    "    # Paso 3: Convertir la columna 'release_date' a formato de fecha y extraer el año\n",
    "    merged_df['release_date'] = pd.to_datetime(merged_df['release_date'], errors='coerce')\n",
    "    merged_df = merged_df.dropna(subset=['release_date'])  # Eliminar filas con fechas nulas\n",
    "\n",
    "    merged_df['release_year'] = merged_df['release_date'].dt.year\n",
    "\n",
    "    # Paso 4: Agregar horas de juego por año y usuario\n",
    "    grouped_df = merged_df.groupby(['user_id', 'release_year'])['playtime_forever'].sum().reset_index()\n",
    "\n",
    "    # Paso 5: Identificar el usuario con más horas jugadas\n",
    "    max_user = grouped_df.loc[grouped_df['playtime_forever'].idxmax()]['user_id']\n",
    "\n",
    "    # Paso 6: Obtener la lista de acumulación de horas jugadas por año para ese usuario\n",
    "    user_hours_by_year = grouped_df[grouped_df['user_id'] == max_user][['release_year', 'playtime_forever']]\n",
    "\n",
    "    user_hours_list = [{\"Año\": int(year), \"Horas\": hours} for year, hours in user_hours_by_year.values]\n",
    "\n",
    "    return {\"Usuario con más horas jugadas para Género \" + genre: max_user, \"Horas jugadas\": user_hours_list}\n",
    "\n",
    "# Ejemplo de uso\n",
    "result = UserForGenre('Action')\n",
    "print(result)"
   ]
  },
  {
   "cell_type": "markdown",
   "metadata": {},
   "source": [
    "## Top tres más recomendadas."
   ]
  },
  {
   "cell_type": "code",
   "execution_count": 10,
   "metadata": {},
   "outputs": [
    {
     "name": "stdout",
     "output_type": "stream",
     "text": [
      "[{'Puesto numero 1 más recomendado es': 'Team Fortress 2'}, {'Puesto numero 2 más recomendado es': 'Rust'}, {'Puesto numero 3 más recomendado es': 'Counter-Strike: Global Offensive'}]\n"
     ]
    },
    {
     "name": "stderr",
     "output_type": "stream",
     "text": [
      "C:\\Users\\Transtermo\\AppData\\Local\\Temp\\ipykernel_8848\\1235767909.py:6: UserWarning: Boolean Series key will be reindexed to match DataFrame index.\n",
      "  filtered_reviews = df_reviews[\n"
     ]
    }
   ],
   "source": [
    "def UsersRecommend(year):\n",
    "    # Convertir la columna 'release_date' a tipo datetime\n",
    "    df_games['release_date'] = pd.to_datetime(df_games['release_date'], errors='coerce')\n",
    "\n",
    "    # Filtrar las reviews para el año dado con recomendación negativa y comentarios negativos\n",
    "    filtered_reviews = df_reviews[\n",
    "        (df_reviews['recommend'] == True) &\n",
    "        (df_reviews['sentiment_analiysis'] != 0) &  \n",
    "        (pd.to_datetime(df_games['release_date']).dt.year == year)\n",
    "]\n",
    "    # Unir con el DataFrame de juegos para obtener los nombres de los juegos\n",
    "    merged_reviews = pd.merge(filtered_reviews, df_games[['id', 'app_name']], left_on='item_id', right_on='id')\n",
    "\n",
    "    # Contar la cantidad de veces que aparece cada juego\n",
    "    top_games = merged_reviews['app_name'].value_counts().head(3)\n",
    "\n",
    "    # Convertir el resultado a un formato de lista de diccionarios\n",
    "    result = [{\"Puesto numero {} más recomendado es\".format(i+1): juego} for i, juego in enumerate(top_games.index)]\n",
    "\n",
    "    return result\n",
    "\n",
    "# Ejemplo de uso con el año 2013\n",
    "result_2013 = UsersRecommend(2013)\n",
    "print(result_2013)"
   ]
  },
  {
   "cell_type": "markdown",
   "metadata": {},
   "source": [
    "## Top tres menos recomendadas."
   ]
  },
  {
   "cell_type": "code",
   "execution_count": 11,
   "metadata": {},
   "outputs": [
    {
     "name": "stdout",
     "output_type": "stream",
     "text": [
      "[{'Puesto numero 1 menos recomendado es': 'Rust'}, {'Puesto numero 2 menos recomendado es': 'Miscreated'}, {'Puesto numero 3 menos recomendado es': 'Robocraft'}]\n"
     ]
    },
    {
     "name": "stderr",
     "output_type": "stream",
     "text": [
      "C:\\Users\\Transtermo\\AppData\\Local\\Temp\\ipykernel_8848\\675684571.py:6: UserWarning: Boolean Series key will be reindexed to match DataFrame index.\n",
      "  filtered_reviews = df_reviews[\n"
     ]
    }
   ],
   "source": [
    "def UsersNotRecommend(year):\n",
    "    # Convertir la columna 'release_date' a tipo datetime\n",
    "    df_games['release_date'] = pd.to_datetime(df_games['release_date'], errors='coerce')\n",
    "\n",
    "    # Filtrar las reviews para el año dado con recomendación negativa y comentarios negativos\n",
    "    filtered_reviews = df_reviews[\n",
    "        (df_reviews['recommend'] == False) &\n",
    "        (df_reviews['sentiment_analiysis'] == 0) &  # 0 para comentarios negativos\n",
    "        (pd.to_datetime(df_games['release_date']).dt.year == year)\n",
    "]\n",
    "    # Unir con el DataFrame de juegos para obtener los nombres de los juegos\n",
    "    merged_reviews = pd.merge(filtered_reviews, df_games[['id', 'app_name']], left_on='item_id', right_on='id')\n",
    "\n",
    "    # Contar la cantidad de veces que aparece cada juego\n",
    "    top_games = merged_reviews['app_name'].value_counts().head(3)\n",
    "\n",
    "    # Convertir el resultado a un formato de lista de diccionarios\n",
    "    result = [{\"Puesto numero {} menos recomendado es\".format(i+1): juego} for i, juego in enumerate(top_games.index)]\n",
    "\n",
    "    return result\n",
    "\n",
    "# Ejemplo de uso con el año 2013\n",
    "result_2013 = UsersNotRecommend(2013)\n",
    "print(result_2013)"
   ]
  },
  {
   "cell_type": "markdown",
   "metadata": {},
   "source": [
    "## Analisis de sentimiento por año."
   ]
  },
  {
   "cell_type": "code",
   "execution_count": 12,
   "metadata": {},
   "outputs": [
    {
     "name": "stdout",
     "output_type": "stream",
     "text": [
      "{'Negative': 4, 'Neutral': 57, 'Positive': 43}\n"
     ]
    }
   ],
   "source": [
    "def sentiment_analysis(year):\n",
    "    # Unir las reseñas con la información de los juegos\n",
    "    merged_reviews = pd.merge(df_reviews, df_games[['id', 'release_date']], left_on='item_id', right_on='id')\n",
    "\n",
    "    # Filtrar las reseñas para el año dado\n",
    "    filtered_reviews = merged_reviews[\n",
    "        (pd.to_datetime(merged_reviews['release_date'], errors='coerce').dt.year == year)\n",
    "    ]\n",
    "\n",
    "    # Contar la cantidad de registros por categoría de sentimiento\n",
    "    sentiment_counts = filtered_reviews['sentiment_analiysis'].value_counts()\n",
    "\n",
    "    # Crear el diccionario de resultados\n",
    "    result = {\n",
    "        'Negative': sentiment_counts.get(0, 0),\n",
    "        'Neutral': sentiment_counts.get(1, 0),\n",
    "        'Positive': sentiment_counts.get(2, 0)\n",
    "    }\n",
    "\n",
    "    return result\n",
    "\n",
    "# Ejemplo de uso con el año 2013\n",
    "result_2013 = sentiment_analysis(2000)\n",
    "print(result_2013)"
   ]
  }
 ],
 "metadata": {
  "kernelspec": {
   "display_name": "Python 3",
   "language": "python",
   "name": "python3"
  },
  "language_info": {
   "codemirror_mode": {
    "name": "ipython",
    "version": 3
   },
   "file_extension": ".py",
   "mimetype": "text/x-python",
   "name": "python",
   "nbconvert_exporter": "python",
   "pygments_lexer": "ipython3",
   "version": "3.10.11"
  }
 },
 "nbformat": 4,
 "nbformat_minor": 2
}
