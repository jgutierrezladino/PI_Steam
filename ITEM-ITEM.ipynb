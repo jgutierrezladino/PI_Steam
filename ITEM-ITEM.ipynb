{
 "cells": [
  {
   "cell_type": "markdown",
   "metadata": {},
   "source": [
    "## Funciones de ML item-item"
   ]
  },
  {
   "cell_type": "code",
   "execution_count": 57,
   "metadata": {},
   "outputs": [],
   "source": [
    "import pandas as pd\n",
    "from sklearn.metrics.pairwise import cosine_similarity\n",
    "from sklearn.neighbors import NearestNeighbors"
   ]
  },
  {
   "cell_type": "code",
   "execution_count": 58,
   "metadata": {},
   "outputs": [],
   "source": [
    "df_games = pd.read_csv('df_games_id.csv')\n",
    "df_user = pd.read_csv('df_user_id.csv')\n",
    "df_reviews = pd.read_csv('df_user_reviews.csv')"
   ]
  },
  {
   "cell_type": "markdown",
   "metadata": {},
   "source": [
    "### Preprocesamiento de datos:\n",
    "Vamos a procesar la columna 'genres' para que sea más fácil de trabajar y eliminar duplicados."
   ]
  },
  {
   "cell_type": "code",
   "execution_count": 62,
   "metadata": {},
   "outputs": [],
   "source": [
    "# Crear un DataFrame con la relación entre juegos y géneros\n",
    "df_game_genres = pd.DataFrame({'id': df_games['id'], 'genres': df_games['genres'], 'app_name': df_games['app_name']})\n",
    "\n",
    "# Eliminar duplicados\n",
    "df_game_genres = df_game_genres.drop_duplicates(subset=['id', 'genres'])"
   ]
  },
  {
   "cell_type": "markdown",
   "metadata": {},
   "source": [
    "### Matriz de géneros:\n",
    "Construir una matriz que represente la relación entre los juegos y los géneros."
   ]
  },
  {
   "cell_type": "code",
   "execution_count": 64,
   "metadata": {},
   "outputs": [],
   "source": [
    "# Eliminar duplicados en df_game_genres\n",
    "df_game_genres = df_game_genres.drop_duplicates(subset=['app_name', 'genres'])\n",
    "\n",
    "# Crear la matriz de géneros\n",
    "genres_matrix = df_game_genres.pivot(index='app_name', columns='genres', values='id').fillna(0)"
   ]
  },
  {
   "cell_type": "markdown",
   "metadata": {},
   "source": [
    "### Similitud del coseno entre juegos:\n",
    "Calcular la similitud del coseno entre juegos basada en la matriz de géneros."
   ]
  },
  {
   "cell_type": "code",
   "execution_count": 50,
   "metadata": {},
   "outputs": [],
   "source": [
    "cosine_sim = cosine_similarity(genres_matrix, genres_matrix)"
   ]
  },
  {
   "cell_type": "markdown",
   "metadata": {},
   "source": [
    "### Función para obtener recomendaciones de juegos:"
   ]
  },
  {
   "cell_type": "code",
   "execution_count": 65,
   "metadata": {},
   "outputs": [],
   "source": [
    "# Función para obtener recomendaciones de juegos similares\n",
    "def get_recommendations_game(game_id, cosine_sim=cosine_sim):\n",
    "    # Obtener la fila correspondiente al juego\n",
    "    game_row = genres_matrix.loc[game_id].values.reshape(1, -1)\n",
    "    \n",
    "    # Calcular la similitud del coseno entre el juego y todos los demás juegos\n",
    "    sim_scores = cosine_similarity(game_row, genres_matrix.values)\n",
    "    \n",
    "    # Obtener los juegos más similares (excluyendo el juego de entrada)\n",
    "    similar_games = sim_scores.argsort()[0][::-1][1:]\n",
    "    \n",
    "    # Tomar los primeros 5 juegos recomendados\n",
    "    recommendations = genres_matrix.index[similar_games][:5].tolist()\n",
    "    \n",
    "    return recommendations"
   ]
  },
  {
   "cell_type": "markdown",
   "metadata": {},
   "source": [
    "### Prueba de uso:"
   ]
  },
  {
   "cell_type": "code",
   "execution_count": 68,
   "metadata": {},
   "outputs": [
    {
     "name": "stdout",
     "output_type": "stream",
     "text": [
      "Recomendaciones para el juego Russian Roads: ['Russian Roads', 'RC-AirSim - RC Model Airplane Flight Simulator', 'Try Hard Parking', 'Car Mechanic Simulator 2015 - Total Modifications', 'SoundTracks: The Train Set Game']\n"
     ]
    }
   ],
   "source": [
    "# Ejemplo de uso con el id de un juego específico\n",
    "game_id_ejemplo = 'Russian Roads'  # Reemplaza con un id real de juego\n",
    "game_recommendations = get_recommendations_game(game_id_ejemplo)\n",
    "print(f\"Recomendaciones para el juego {game_id_ejemplo}: {game_recommendations}\")"
   ]
  },
  {
   "cell_type": "code",
   "execution_count": null,
   "metadata": {},
   "outputs": [],
   "source": []
  }
 ],
 "metadata": {
  "kernelspec": {
   "display_name": "Python 3",
   "language": "python",
   "name": "python3"
  },
  "language_info": {
   "codemirror_mode": {
    "name": "ipython",
    "version": 3
   },
   "file_extension": ".py",
   "mimetype": "text/x-python",
   "name": "python",
   "nbconvert_exporter": "python",
   "pygments_lexer": "ipython3",
   "version": "3.10.11"
  }
 },
 "nbformat": 4,
 "nbformat_minor": 2
}
